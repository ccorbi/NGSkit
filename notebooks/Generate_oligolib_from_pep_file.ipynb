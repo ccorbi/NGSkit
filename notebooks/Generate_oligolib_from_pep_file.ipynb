{
 "cells": [
  {
   "cell_type": "markdown",
   "metadata": {},
   "source": [
    "# Generate an oligolibrary from a file with peptides"
   ]
  },
  {
   "cell_type": "markdown",
   "metadata": {},
   "source": [
    "\n",
    "Here there is a short example of how to generate a library from a file with the whole library in amino acid code. This could come from energy function or statistical learning methods. "
   ]
  },
  {
   "cell_type": "code",
   "execution_count": 1,
   "metadata": {
    "ExecuteTime": {
     "end_time": "2020-01-31T20:13:49.103912Z",
     "start_time": "2020-01-31T20:13:48.744389Z"
    }
   },
   "outputs": [],
   "source": [
    "from ngskit import oligolib_generator as og"
   ]
  },
  {
   "cell_type": "code",
   "execution_count": 2,
   "metadata": {
    "ExecuteTime": {
     "end_time": "2020-01-31T20:14:35.744873Z",
     "start_time": "2020-01-31T20:14:35.740466Z"
    }
   },
   "outputs": [],
   "source": [
    "# Constant flanking regions\n",
    "CONSTANT_F = 'TGATGCCGGTGGCGCAGGCG'.upper()\n",
    "CONSTANT_R =  'ggatccgggggtggaggctct'.upper()\n"
   ]
  },
  {
   "cell_type": "code",
   "execution_count": 3,
   "metadata": {
    "ExecuteTime": {
     "end_time": "2020-01-31T20:15:01.857812Z",
     "start_time": "2020-01-31T20:15:01.853671Z"
    }
   },
   "outputs": [],
   "source": [
    "# restriction enzymes, can be a list, or a dict format {name:target}\n",
    "renzym = ['accggt'.upper(), 'GGATCC', 'CTGCAG']\n"
   ]
  },
  {
   "cell_type": "code",
   "execution_count": 4,
   "metadata": {
    "ExecuteTime": {
     "end_time": "2020-01-31T20:15:30.909807Z",
     "start_time": "2020-01-31T20:15:30.905078Z"
    }
   },
   "outputs": [],
   "source": [
    "# init the library\n",
    "lib = og.peptide_library(CONSTANT_F=CONSTANT_F, CONSTANT_R=CONSTANT_R, restriction_enzymes= renzym, lib_name='SEC')"
   ]
  },
  {
   "cell_type": "code",
   "execution_count": 5,
   "metadata": {
    "ExecuteTime": {
     "end_time": "2020-01-31T20:17:33.193177Z",
     "start_time": "2020-01-31T20:17:33.129219Z"
    }
   },
   "outputs": [
    {
     "data": {
      "application/vnd.jupyter.widget-view+json": {
       "model_id": "66ae1b4960e747f699c357f454fec03a",
       "version_major": 2,
       "version_minor": 0
      },
      "text/plain": [
       "HBox(children=(IntProgress(value=1, bar_style='info', max=1), HTML(value='')))"
      ]
     },
     "metadata": {},
     "output_type": "display_data"
    },
    {
     "name": "stdout",
     "output_type": "stream",
     "text": [
      "\n"
     ]
    }
   ],
   "source": [
    "# load file with  designs\n",
    "lib.load_designs('example_lib.pep')"
   ]
  },
  {
   "cell_type": "code",
   "execution_count": 7,
   "metadata": {
    "ExecuteTime": {
     "end_time": "2020-01-31T20:17:52.219244Z",
     "start_time": "2020-01-31T20:17:52.211752Z"
    }
   },
   "outputs": [
    {
     "name": "stdout",
     "output_type": "stream",
     "text": [
      "include_template :\tFalse\n",
      "lib_name :\tSEC\n",
      "CONSTANT_F :\tTGATGCCGGTGGCGCAGGCG\n",
      "CONSTANT_R :\tGGATCCGGGGGTGGAGGCTCT\n",
      "lib_limit :\tNone\n",
      "restriction_enzymes :\t{0: 'ACCGGT', 1: 'GGATCC', 2: 'CTGCAG'}\n",
      "codon_usage_species :\thuman\n",
      "Seq in the lib :\t165\n"
     ]
    }
   ],
   "source": [
    "# review library\n",
    "lib.info()"
   ]
  },
  {
   "cell_type": "code",
   "execution_count": 9,
   "metadata": {
    "ExecuteTime": {
     "end_time": "2020-01-31T20:18:40.911054Z",
     "start_time": "2020-01-31T20:18:40.826436Z"
    }
   },
   "outputs": [
    {
     "name": "stdout",
     "output_type": "stream",
     "text": [
      "WARNING: ADDING_STOP: False - EXTENDING SEQUENCES False\n"
     ]
    },
    {
     "data": {
      "application/vnd.jupyter.widget-view+json": {
       "model_id": "698b0f8e763e4824b51970f166ad30f5",
       "version_major": 2,
       "version_minor": 0
      },
      "text/plain": [
       "HBox(children=(IntProgress(value=0, max=165), HTML(value='')))"
      ]
     },
     "metadata": {},
     "output_type": "display_data"
    },
    {
     "name": "stdout",
     "output_type": "stream",
     "text": [
      "\n"
     ]
    }
   ],
   "source": [
    "# write the library in oligo format\n",
    "lib.write('example_lib_NA.fasta', add_stop_codon=False)"
   ]
  },
  {
   "cell_type": "code",
   "execution_count": 10,
   "metadata": {
    "ExecuteTime": {
     "end_time": "2020-01-31T20:19:11.506434Z",
     "start_time": "2020-01-31T20:19:11.468716Z"
    }
   },
   "outputs": [
    {
     "data": {
      "text/plain": [
       "OrderedDict([('SEC_MD_0',\n",
       "              'TGATGCCGGTGGCGCAGGCGgactgtttaggattcatgcggaaatgcatccccgacaacgacaagtgtGGATCCGGGGGTGGAGGCTCT'),\n",
       "             ('SEC_MD_1',\n",
       "              'TGATGCCGGTGGCGCAGGCGcccgataatgacaagtgctgtcggcccaatttggtgtgctctcgtacgGGATCCGGGGGTGGAGGCTCT'),\n",
       "             ('SEC_MD_2',\n",
       "              'TGATGCCGGTGGCGCAGGCGggaggactggtctgtagcagaactcacaagtggtgtaagtacgtattcGGATCCGGGGGTGGAGGCTCT'),\n",
       "             ('SEC_MD_3',\n",
       "              'TGATGCCGGTGGCGCAGGCGgagatcgaggatgacttcctggaggatgagagctttgaggctgaggacGGATCCGGGGGTGGAGGCTCT'),\n",
       "             ('SEC_MD_4',\n",
       "              'TGATGCCGGTGGCGCAGGCGagctttgaagccgaggatataatcccgtttttcgagaacgagcaggctGGATCCGGGGGTGGAGGCTCT'),\n",
       "             ('SEC_MD_5',\n",
       "              'TGATGCCGGTGGCGCAGGCGtttgagaacgaacaagcacggtcatgcattcccaagcacgaggagtgtGGATCCGGGGGTGGAGGCTCT'),\n",
       "             ('SEC_MD_6',\n",
       "              'TGATGCCGGTGGCGCAGGCGccaaagcacgaagaatgcactaatgacaagcataattgttgccgtaagGGATCCGGGGGTGGAGGCTCT'),\n",
       "             ('SEC_MD_7',\n",
       "              'TGATGCCGGTGGCGCAGGCGcacaactgctgtagaaaggggctcttcaagctgaagtgccagtgctcaGGATCCGGGGGTGGAGGCTCT'),\n",
       "             ('SEC_MD_8',\n",
       "              'TGATGCCGGTGGCGCAGGCGctgaaatgccagtgttcaacatttgatgacgagtctggccagccaactGGATCCGGGGGTGGAGGCTCT'),\n",
       "             ('SEC_MD_9',\n",
       "              'TGATGCCGGTGGCGCAGGCGgaatccggacagccaacagagagatgtgcatgcggccgaccaatgggtGGATCCGGGGGTGGAGGCTCT'),\n",
       "             ('SEC_MD_10',\n",
       "              'TGATGCCGGTGGCGCAGGCGtgtggccgccccatgggccaccaagcgattgagaccgggcttaacattGGATCCGGGGGTGGAGGCTCT'),\n",
       "             ('SEC_MD_11',\n",
       "              'TGATGCCGGTGGCGCAGGCGgaaacgggtcttaatatatttagaggccttttcaaaggtaaaaaaaaaGGATCCGGGGGTGGAGGCTCT'),\n",
       "             ('SEC_MD_12',\n",
       "              'TGATGCCGGTGGCGCAGGCGggatcaggcggattcaaaggcaagaagaagaacaagaagacaaaaggtGGATCCGGGGGTGGAGGCTCT'),\n",
       "             ('SEC_MD_13',\n",
       "              'TGATGCCGGTGGCGCAGGCGgaggattgcataccgaagtggaaaggctgcgtgaacagacatggggacGGATCCGGGGGTGGAGGCTCT'),\n",
       "             ('SEC_MD_14',\n",
       "              'TGATGCCGGTGGCGCAGGCGgtgaatcgtcatggggactgttgtgaagggcttgagtgctggaaacggGGATCCGGGGGTGGAGGCTCT'),\n",
       "             ('SEC_MD_15',\n",
       "              'TGATGCCGGTGGCGCAGGCGctcgaatgttggaaacgccgacgaagctttgaagtatgtgtcccaaagGGATCCGGGGGTGGAGGCTCT'),\n",
       "             ('SEC_MD_16',\n",
       "              'TGATGCCGGTGGCGCAGGCGtctggcggctcaggaggggaggtttgtgtgcctaagacaccaaagactGGATCCGGGGGTGGAGGCTCT'),\n",
       "             ('SEC_MD_17',\n",
       "              'TGATGCCGGTGGCGCAGGCGtactgtcagaagtggatgtggacttgcgattccgaacgtaagtgctgcGGATCCGGGGGTGGAGGCTCT'),\n",
       "             ('SEC_MD_18',\n",
       "              'TGATGCCGGTGGCGCAGGCGtctgaaaggaagtgctgtgagggcatggtgtgtcgcctttggtgtaagGGATCCGGGGGTGGAGGCTCT'),\n",
       "             ('SEC_MD_19',\n",
       "              'TGATGCCGGTGGCGCAGGCGtcaggtggatcaggtggctgtaggttatggtgtaaaaaaaagctgtggGGATCCGGGGGTGGAGGCTCT'),\n",
       "             ('SEC_MD_20',\n",
       "              'TGATGCCGGTGGCGCAGGCGaggtcctgctgcccttgctactggggaggatgtccatggggccagaacGGATCCGGGGGTGGAGGCTCT'),\n",
       "             ('SEC_MD_21',\n",
       "              'TGATGCCGGTGGCGCAGGCGtgtccttggggtcagaactgttaccctgaggggtgttctggaccaaagGGATCCGGGGGTGGAGGCTCT'),\n",
       "             ('SEC_MD_22',\n",
       "              'TGATGCCGGTGGCGCAGGCGgaattctccaacgagcttttgtcaagcgtgttggctgtagatgataatGGATCCGGGGGTGGAGGCTCT'),\n",
       "             ('SEC_MD_23',\n",
       "              'TGATGCCGGTGGCGCAGGCGctcgcggttgacgataattctaagggagaggaacgagaatgcctggagGGATCCGGGGGTGGAGGCTCT'),\n",
       "             ('SEC_MD_24',\n",
       "              'TGATGCCGGTGGCGCAGGCGgagcgggaatgcctggagattttcaaagcctgcaacccaagcaacgatGGATCCGGGGGTGGAGGCTCT'),\n",
       "             ('SEC_MD_25',\n",
       "              'TGATGCCGGTGGCGCAGGCGtgtaacccctccaacgatcaatgttgtaagtctagcaaactggtgtgtGGATCCGGGGGTGGAGGCTCT'),\n",
       "             ('SEC_MD_26',\n",
       "              'TGATGCCGGTGGCGCAGGCGtcaagcaaactggtgtgctcccgaaaaacccggtggtgtaaataccaaGGATCCGGGGGTGGAGGCTCT'),\n",
       "             ('SEC_MD_27',\n",
       "              'TGATGCCGGTGGCGCAGGCGgggtcaggaggaagtggaggcagatggtgtaaataccagataggaaagGGATCCGGGGGTGGAGGCTCT'),\n",
       "             ('SEC_MD_28',\n",
       "              'TGATGCCGGTGGCGCAGGCGgtggctaaagagtttacgctggacttctcaacagcaaagacctatgttGGATCCGGGGGTGGAGGCTCT'),\n",
       "             ('SEC_MD_29',\n",
       "              'TGATGCCGGTGGCGCAGGCGacagctaaaacgtacgttgacagccttaacgtgatcaggtccgccattGGATCCGGGGGTGGAGGCTCT'),\n",
       "             ('SEC_MD_30',\n",
       "              'TGATGCCGGTGGCGCAGGCGgtgatacgctctgctatcggcacgccattacagactatctctagcggcGGATCCGGGGGTGGAGGCTCT'),\n",
       "             ('SEC_MD_31',\n",
       "              'TGATGCCGGTGGCGCAGGCGcagacaattagctcggggggtaccagtttattgatgatagatagcgggGGATCCGGGGGTGGAGGCTCT'),\n",
       "             ('SEC_MD_32',\n",
       "              'TGATGCCGGTGGCGCAGGCGcttatgattgattcagggactggcgataatttgttcgcggtggacgtgGGATCCGGGGGTGGAGGCTCT'),\n",
       "             ('SEC_MD_33',\n",
       "              'TGATGCCGGTGGCGCAGGCGctgtttgcagtcgatgtccgtggtatcgatcccgaggaggggcggtttGGATCCGGGGGTGGAGGCTCT'),\n",
       "             ('SEC_MD_34',\n",
       "              'TGATGCCGGTGGCGCAGGCGcccgaggaagggcggttcaataacctgcgcctcattgttgagcgaaacGGATCCGGGGGTGGAGGCTCT'),\n",
       "             ('SEC_MD_35',\n",
       "              'TGATGCCGGTGGCGCAGGCGttgattgttgagcggaacaacctgtatgtcaccggattcgtcaataggGGATCCGGGGGTGGAGGCTCT'),\n",
       "             ('SEC_MD_36',\n",
       "              'TGATGCCGGTGGCGCAGGCGacgggttttgttaacagaacgaataacgtgttttatcgattcgccgacGGATCCGGGGGTGGAGGCTCT'),\n",
       "             ('SEC_MD_37',\n",
       "              'TGATGCCGGTGGCGCAGGCGttttataggttcgcagatttcagccacgtcaccttcccaggcaccactGGATCCGGGGGTGGAGGCTCT'),\n",
       "             ('SEC_MD_38',\n",
       "              'TGATGCCGGTGGCGCAGGCGaccttcccaggcacgaccgcggtgacgctgagtggggactcatcctacGGATCCGGGGGTGGAGGCTCT'),\n",
       "             ('SEC_MD_39',\n",
       "              'TGATGCCGGTGGCGCAGGCGtccggagattcctcttacaccacactacagcgcgtcgcaggaatctccGGATCCGGGGGTGGAGGCTCT'),\n",
       "             ('SEC_MD_40',\n",
       "              'TGATGCCGGTGGCGCAGGCGagagtggcaggtatctcaagaaccggcatgcaaatcaataggcactcgGGATCCGGGGGTGGAGGCTCT'),\n",
       "             ('SEC_MD_41',\n",
       "              'TGATGCCGGTGGCGCAGGCGcagattaaccgccactctctcacaacgtcatacctggacctaatgtccGGATCCGGGGGTGGAGGCTCT'),\n",
       "             ('SEC_MD_42',\n",
       "              'TGATGCCGGTGGCGCAGGCGtacttagatttgatgagtcactcaggcaccagcctgacccagagtgttGGATCCGGGGGTGGAGGCTCT'),\n",
       "             ('SEC_MD_43',\n",
       "              'TGATGCCGGTGGCGCAGGCGagtttaacccagtccgttgccagagccatgcttaggttcgtgactgtcGGATCCGGGGGTGGAGGCTCT'),\n",
       "             ('SEC_MD_44',\n",
       "              'TGATGCCGGTGGCGCAGGCGcttcggtttgtgactgttacagctgaggcgctaagattccgacagattGGATCCGGGGGTGGAGGCTCT'),\n",
       "             ('SEC_MD_45',\n",
       "              'TGATGCCGGTGGCGCAGGCGctgcgttttaggcaaatccagaggggattcaggaccactctggatgatGGATCCGGGGGTGGAGGCTCT'),\n",
       "             ('SEC_MD_46',\n",
       "              'TGATGCCGGTGGCGCAGGCGagaacgaccctggacgacctatctggccggagttacgttatgacagcgGGATCCGGGGGTGGAGGCTCT'),\n",
       "             ('SEC_MD_47',\n",
       "              'TGATGCCGGTGGCGCAGGCGtcctatgtgatgacagcggaggacgtggatctaactctgaattggggtGGATCCGGGGGTGGAGGCTCT'),\n",
       "             ('SEC_MD_48',\n",
       "              'TGATGCCGGTGGCGCAGGCGcttactctgaattggggcaggctgtcgtcagttctgccagactaccacGGATCCGGGGGTGGAGGCTCT'),\n",
       "             ('SEC_MD_49',\n",
       "              'TGATGCCGGTGGCGCAGGCGgtgttgccggactaccacggccaagacagtgtgcgagttggacgcatcGGATCCGGGGGTGGAGGCTCT'),\n",
       "             ('SEC_MD_50',\n",
       "              'TGATGCCGGTGGCGCAGGCGgtccgggtaggaaggatcagttttggcagcatcaatgccatcctgggaGGATCCGGGGGTGGAGGCTCT'),\n",
       "             ('SEC_MD_51',\n",
       "              'TGATGCCGGTGGCGCAGGCGatcaacgcaattctgggctctgttgccttgatcctcaattgccaccatGGATCCGGGGGTGGAGGCTCT'),\n",
       "             ('SEC_MD_52',\n",
       "              'TGATGCCGGTGGCGCAGGCGatactgaattgtcaccatcacgcaagtagagtcgcccgcatggcttccGGATCCGGGGGTGGAGGCTCT'),\n",
       "             ('SEC_MD_53',\n",
       "              'TGATGCCGGTGGCGCAGGCGgtggcccggatggcctctgatgagttcccgagcatgtgtcctgccgacGGATCCGGGGGTGGAGGCTCT'),\n",
       "             ('SEC_MD_54',\n",
       "              'TGATGCCGGTGGCGCAGGCGtcaatgtgtcctgccgacggccgcgtcagggggattacgcacaataagGGATCCGGGGGTGGAGGCTCT'),\n",
       "             ('SEC_MD_55',\n",
       "              'TGATGCCGGTGGCGCAGGCGggtatcactcacaataaaatactgtgggactcatctaccctcggcgctGGATCCGGGGGTGGAGGCTCT'),\n",
       "             ('SEC_MD_56',\n",
       "              'TGATGCCGGTGGCGCAGGCGggcagctccactctgggggcgatcttaatgcggcggacgatatcttcaGGATCCGGGGGTGGAGGCTCT'),\n",
       "             ('SEC_MD_57',\n",
       "              'TGATGCCGGTGGCGCAGGCGacctgtcgctacctttttggcggatgtaagaccacagcggattgctgtGGATCCGGGGGTGGAGGCTCT'),\n",
       "             ('SEC_MD_58',\n",
       "              'TGATGCCGGTGGCGCAGGCGacaacagctgattgctgcaaacatttagcttgcaggagcgatgggaaaGGATCCGGGGGTGGAGGCTCT'),\n",
       "             ('SEC_MD_59',\n",
       "              'TGATGCCGGTGGCGCAGGCGggtgggtgtcggtccgacggcaagtactgcgcttgggatggcacattcGGATCCGGGGGTGGAGGCTCT'),\n",
       "             ('SEC_MD_60',\n",
       "              'TGATGCCGGTGGCGCAGGCGccttataagaagcgcaaattcccctataaatcagagtgtttgaaggccGGATCCGGGGGTGGAGGCTCT'),\n",
       "             ('SEC_MD_61',\n",
       "              'TGATGCCGGTGGCGCAGGCGtccgagtgcctcaaggcttgcgccacttcattcacaggaggtgatgagGGATCCGGGGGTGGAGGCTCT'),\n",
       "             ('SEC_MD_62',\n",
       "              'TGATGCCGGTGGCGCAGGCGttcactggtggagatgaatcacgcattcaggaaggaaagcccggcttcGGATCCGGGGGTGGAGGCTCT'),\n",
       "             ('SEC_MD_63',\n",
       "              'TGATGCCGGTGGCGCAGGCGgagggcaagcccgggttttttaaatgcacctgttattttacaactggaGGATCCGGGGGTGGAGGCTCT'),\n",
       "             ('SEC_MD_64',\n",
       "              'TGATGCCGGTGGCGCAGGCGgccgagaagccatggtactttgatgccattggtctcacagaaactacaGGATCCGGGGGTGGAGGCTCT'),\n",
       "             ('SEC_MD_65',\n",
       "              'TGATGCCGGTGGCGCAGGCGggactaacggagacaaccatgtctttgacagacaagaacactcccgtgGGATCCGGGGGTGGAGGCTCT'),\n",
       "             ('SEC_MD_66',\n",
       "              'TGATGCCGGTGGCGCAGGCGgacaaaaacacacctgtggtggtcagtgtagtcgattcaggtgtggcgGGATCCGGGGGTGGAGGCTCT'),\n",
       "             ('SEC_MD_67',\n",
       "              'TGATGCCGGTGGCGCAGGCGgtggacagtggggtcgccttcatcggcgggctgtcagacagtgaatttGGATCCGGGGGTGGAGGCTCT'),\n",
       "             ('SEC_MD_68',\n",
       "              'TGATGCCGGTGGCGCAGGCGctgagtgactccgagtttgcaaagtttagcttcactcaggacgggtcaGGATCCGGGGGTGGAGGCTCT'),\n",
       "             ('SEC_MD_69',\n",
       "              'TGATGCCGGTGGCGCAGGCGttcacacaagacggtagccccttccctgttaaaaaaagtgaggccctgGGATCCGGGGGTGGAGGCTCT'),\n",
       "             ('SEC_MD_70',\n",
       "              'TGATGCCGGTGGCGCAGGCGaagaagtccgaggctctgtacatccatgggaccgctatggcgagccttGGATCCGGGGGTGGAGGCTCT'),\n",
       "             ('SEC_MD_71',\n",
       "              'TGATGCCGGTGGCGCAGGCGaccgccatggcaagcctaatagcctcacggtatggaatctatggagtgGGATCCGGGGGTGGAGGCTCT'),\n",
       "             ('SEC_MD_72',\n",
       "              'TGATGCCGGTGGCGCAGGCGtatggcatatacggagtgtatccgcacgccctaatcagttctcggaggGGATCCGGGGGTGGAGGCTCT'),\n",
       "             ('SEC_MD_73',\n",
       "              'TGATGCCGGTGGCGCAGGCGctaattagttccaggcgagtgataccagacggcgtgcaggattcttggGGATCCGGGGGTGGAGGCTCT'),\n",
       "             ('SEC_MD_74',\n",
       "              'TGATGCCGGTGGCGCAGGCGggggtgcaggatagttggattcgtgcaattgaaagcatcatgtcaaacGGATCCGGGGGTGGAGGCTCT'),\n",
       "             ('SEC_MD_75',\n",
       "              'TGATGCCGGTGGCGCAGGCGgaatcaatcatgtctaatgttttcctggcaccaggcgaagagaagataGGATCCGGGGGTGGAGGCTCT'),\n",
       "             ('SEC_MD_76',\n",
       "              'TGATGCCGGTGGCGCAGGCGccgggcgaggagaagataatcaacatttctggaggccagaagggcgttGGATCCGGGGGTGGAGGCTCT'),\n",
       "             ('SEC_MD_77',\n",
       "              'TGATGCCGGTGGCGCAGGCGggaggccagaagggtgtggcgtcagcctccgtgtggacagaattactgGGATCCGGGGGTGGAGGCTCT'),\n",
       "             ('SEC_MD_78',\n",
       "              'TGATGCCGGTGGCGCAGGCGgtttggaccgagttactctcccggatgggaagaaacaatgacaggctgGGATCCGGGGGTGGAGGCTCT'),\n",
       "             ('SEC_MD_79',\n",
       "              'TGATGCCGGTGGCGCAGGCGaggaacaacgacagactcatcgtcgccgcagtggggaatgatggagcgGGATCCGGGGGTGGAGGCTCT'),\n",
       "             ('SEC_MD_80',\n",
       "              'TGATGCCGGTGGCGCAGGCGgttggtaatgacggggccgacatccgcaaactgtccgctcagcagcgtGGATCCGGGGGTGGAGGCTCT'),\n",
       "             ('SEC_MD_81',\n",
       "              'TGATGCCGGTGGCGCAGGCGctctccgcacagcaacgcatttggcccgccgcataccaccccgtgtcgGGATCCGGGGGTGGAGGCTCT'),\n",
       "             ('SEC_MD_82',\n",
       "              'TGATGCCGGTGGCGCAGGCGgcctatcatcccgttagttctgtgaacaagaagcaggacccagtcataGGATCCGGGGGTGGAGGCTCT'),\n",
       "             ('SEC_MD_83',\n",
       "              'TGATGCCGGTGGCGCAGGCGaaacaagaccctgtaattcgagtggcggccttggcccaatatcgaaaaGGATCCGGGGGTGGAGGCTCT'),\n",
       "             ('SEC_MD_84',\n",
       "              'TGATGCCGGTGGCGCAGGCGttggcccagtacaggaaaggagagactcccgtattgcacggagggggcGGATCCGGGGGTGGAGGCTCT'),\n",
       "             ('SEC_MD_85',\n",
       "              'TGATGCCGGTGGCGCAGGCGgtgttacatggcggcgggattaccgggagccggttcggcaataattggGGATCCGGGGGTGGAGGCTCT'),\n",
       "             ('SEC_MD_86',\n",
       "              'TGATGCCGGTGGCGCAGGCGcggtttgggaataactgggtagatattgctgcacccgggcagaatatcGGATCCGGGGGTGGAGGCTCT'),\n",
       "             ('SEC_MD_87',\n",
       "              'TGATGCCGGTGGCGCAGGCGgctcctggacaaaatataacctttttacgcccagacgcgaagacgggcGGATCCGGGGGTGGAGGCTCT'),\n",
       "             ('SEC_MD_88',\n",
       "              'TGATGCCGGTGGCGCAGGCGcccgatgccaagaccgggactggcagtgggacctctgaggctaccgccGGATCCGGGGGTGGAGGCTCT'),\n",
       "             ('SEC_MD_89',\n",
       "              'TGATGCCGGTGGCGCAGGCGacgagtgaagcgacggcgattgtctcgggagtcttagccgctatgaccGGATCCGGGGGTGGAGGCTCT'),\n",
       "             ('SEC_MD_90',\n",
       "              'TGATGCCGGTGGCGCAGGCGgtacttgccgcgatgacaagttgtaatcctcgagcgacagcaaccgagGGATCCGGGGGTGGAGGCTCT'),\n",
       "             ('SEC_MD_91',\n",
       "              'TGATGCCGGTGGCGCAGGCGagggctacagcgaccgaactcaaaaggactttattggagagcgccgatGGATCCGGGGGTGGAGGCTCT'),\n",
       "             ('SEC_MD_92',\n",
       "              'TGATGCCGGTGGCGCAGGCGctgctcgagagtgccgataaatacccctcccttgttgacaaggtcactGGATCCGGGGGTGGAGGCTCT'),\n",
       "             ('SEC_MD_93',\n",
       "              'TGATGCCGGTGGCGCAGGCGttagtagacaaagtgactgagggaagggttctgaacgcggagaaggctGGATCCGGGGGTGGAGGCTCT'),\n",
       "             ('SEC_MD_94',\n",
       "              'TGATGCCGGTGGCGCAGGCGctgaatgccgagaaagcaatctcgatgttctgcaagaaaaactacataGGATCCGGGGGTGGAGGCTCT'),\n",
       "             ('SEC_MD_95',\n",
       "              'TGATGCCGGTGGCGCAGGCGtgcaagaagaactacatccctgtgcgtcagggaagaatgagtgaagagGGATCCGGGGGTGGAGGCTCT'),\n",
       "             ('SEC_MD_96',\n",
       "              'TGATGCCGGTGGCGCAGGCGaccccagatctggaagaaggggacctgctcgctgagctgggcgacctgGGATCCGGGGGTGGAGGCTCT'),\n",
       "             ('SEC_MD_97',\n",
       "              'TGATGCCGGTGGCGCAGGCGgctgagttgggcgatctgatagccaccgacgatgagtaccctatgaagGGATCCGGGGGTGGAGGCTCT'),\n",
       "             ('SEC_MD_98',\n",
       "              'TGATGCCGGTGGCGCAGGCGgatgagtaccccatgaaaccggaggaacgaggctgtaagttgactttcGGATCCGGGGGTGGAGGCTCT'),\n",
       "             ('SEC_MD_99',\n",
       "              'TGATGCCGGTGGCGCAGGCGggctgtaaactgactttctggaagtgtaaaaataagaaggagtgttgtGGATCCGGGGGTGGAGGCTCT'),\n",
       "             ('SEC_MD_100',\n",
       "              'TGATGCCGGTGGCGCAGGCGaacaaaaaggagtgctgcggatggaatgcatgtgcattaggtatctgcGGATCCGGGGGTGGAGGCTCT'),\n",
       "             ('SEC_MD_101',\n",
       "              'TGATGCCGGTGGCGCAGGCGggatctggcggcagtggtggatgtgccttgggtatttgtatgcctaggGGATCCGGGGGTGGAGGCTCT'),\n",
       "             ('SEC_MD_102',\n",
       "              'TGATGCCGGTGGCGCAGGCGgaatgtagatactggctgggaggttgctctgcggggcagacttgctgcGGATCCGGGGGTGGAGGCTCT'),\n",
       "             ('SEC_MD_103',\n",
       "              'TGATGCCGGTGGCGCAGGCGgcaggccaaacatgttgtaagcatctggtttgtagtcgtcgacatggaGGATCCGGGGGTGGAGGCTCT'),\n",
       "             ('SEC_MD_104',\n",
       "              'TGATGCCGGTGGCGCAGGCGggatgtagtcgcaggcatggctggtgtgtgtgggacggcacattctccGGATCCGGGGGTGGAGGCTCT'),\n",
       "             ('SEC_MD_105',\n",
       "              'TGATGCCGGTGGCGCAGGCGatggccaccaagacagagttgtcacccaccgcccgggaaagtaagaatGGATCCGGGGGTGGAGGCTCT'),\n",
       "             ('SEC_MD_106',\n",
       "              'TGATGCCGGTGGCGCAGGCGgcccgtgagtccaaaaacgcacaggacatgcaagtagacgagacacttGGATCCGGGGGTGGAGGCTCT'),\n",
       "             ('SEC_MD_107',\n",
       "              'TGATGCCGGTGGCGCAGGCGcaagttgacgagaccctcatacctagaaaggtgcccagcctgtgctccGGATCCGGGGGTGGAGGCTCT'),\n",
       "             ('SEC_MD_108',\n",
       "              'TGATGCCGGTGGCGCAGGCGacatatatctcgtctgtgtatcacgttaatatcagagataatggtcttGGATCCGGGGGTGGAGGCTCT'),\n",
       "             ('SEC_MD_109',\n",
       "              'TGATGCCGGTGGCGCAGGCGagcggcgggtctggcggatgggccaaggagcgcaagctcactcgacttGGATCCGGGGGTGGAGGCTCT'),\n",
       "             ('SEC_MD_110',\n",
       "              'TGATGCCGGTGGCGCAGGCGaagtttagttacgagagactccgcctgagggtcacccatcagaccaccGGATCCGGGGGTGGAGGCTCT'),\n",
       "             ('SEC_MD_111',\n",
       "              'TGATGCCGGTGGCGCAGGCGgtaacccaccagactaccggcgacgaatacttccgcttcatcaccctgGGATCCGGGGGTGGAGGCTCT'),\n",
       "             ('SEC_MD_112',\n",
       "              'TGATGCCGGTGGCGCAGGCGtttcggtttatcacgctgcttagagactacgtgtcaagcgggtcctttGGATCCGGGGGTGGAGGCTCT'),\n",
       "             ('SEC_MD_113',\n",
       "              'TGATGCCGGTGGCGCAGGCGgtgtcctccggctcatttagcaacgagatcccactgttacgccaatcaGGATCCGGGGGTGGAGGCTCT'),\n",
       "             ('SEC_MD_114',\n",
       "              'TGATGCCGGTGGCGCAGGCGcctctgttgagacagtctactattccggtctccgacgctcaaaggttcGGATCCGGGGGTGGAGGCTCT'),\n",
       "             ('SEC_MD_115',\n",
       "              'TGATGCCGGTGGCGCAGGCGagtgatgctcagcgttttgtgctggtggaactcactaaccaaggtggcGGATCCGGGGGTGGAGGCTCT'),\n",
       "             ('SEC_MD_116',\n",
       "              'TGATGCCGGTGGCGCAGGCGctgacaaatcaaggtggggatagtatcacagcagcaatcgacgtcactGGATCCGGGGGTGGAGGCTCT'),\n",
       "             ('SEC_MD_117',\n",
       "              'TGATGCCGGTGGCGCAGGCGgcagcaattgatgtgaccaatctatatgtggtggcctatcaagcgggaGGATCCGGGGGTGGAGGCTCT'),\n",
       "             ('SEC_MD_118',\n",
       "              'TGATGCCGGTGGCGCAGGCGgtggcctaccaagccggcgaccagtcttacttcctgcgcgatgcccctGGATCCGGGGGTGGAGGCTCT'),\n",
       "             ('SEC_MD_119',\n",
       "              'TGATGCCGGTGGCGCAGGCGtttttacgagacgctccagacggggccgagaggcatctcttcactggcGGATCCGGGGGTGGAGGCTCT'),\n",
       "             ('SEC_MD_120',\n",
       "              'TGATGCCGGTGGCGCAGGCGagacatctgtttacgggaacaacccgatctagcctgccgttcactggaGGATCCGGGGGTGGAGGCTCT'),\n",
       "             ('SEC_MD_121',\n",
       "              'TGATGCCGGTGGCGCAGGCGtcactgccctttacgggttcctacactgacctggagcgatacgccggtGGATCCGGGGGTGGAGGCTCT'),\n",
       "             ('SEC_MD_122',\n",
       "              'TGATGCCGGTGGCGCAGGCGctggagcgctatgcggggcaccgcgatcagatccctctcgggatcgagGGATCCGGGGGTGGAGGCTCT'),\n",
       "             ('SEC_MD_123',\n",
       "              'TGATGCCGGTGGCGCAGGCGattccattaggaatagaagaactgattcagtctgtatctgcgcttaggGGATCCGGGGGTGGAGGCTCT'),\n",
       "             ('SEC_MD_124',\n",
       "              'TGATGCCGGTGGCGCAGGCGtcagtatcagcgctgagatatcccggggggtccactagagctcaggcaGGATCCGGGGGTGGAGGCTCT'),\n",
       "             ('SEC_MD_125',\n",
       "              'TGATGCCGGTGGCGCAGGCGagcaccagagcccaggcaaggtctattatcatccttattcagatgataGGATCCGGGGGTGGAGGCTCT'),\n",
       "             ('SEC_MD_126',\n",
       "              'TGATGCCGGTGGCGCAGGCGattttgatccaaatgataagcgaagccgcgcgattcaacccaattttcGGATCCGGGGGTGGAGGCTCT'),\n",
       "             ('SEC_MD_127',\n",
       "              'TGATGCCGGTGGCGCAGGCGcgctttaatcccatcttctggcgcgtccggcaggacataaatagtggaGGATCCGGGGGTGGAGGCTCT'),\n",
       "             ('SEC_MD_128',\n",
       "              'TGATGCCGGTGGCGCAGGCGcaggacataaacagtggggagagttttctcccggacatgtatatgttgGGATCCGGGGGTGGAGGCTCT'),\n",
       "             ('SEC_MD_129',\n",
       "              'TGATGCCGGTGGCGCAGGCGcccgatatgtacatgctcgagctggagaccagttggggacagcaatctGGATCCGGGGGTGGAGGCTCT'),\n",
       "             ('SEC_MD_130',\n",
       "              'TGATGCCGGTGGCGCAGGCGtcctggggccagcaatccacccaggtacagcaatcaactgatggagtgGGATCCGGGGGTGGAGGCTCT'),\n",
       "             ('SEC_MD_131',\n",
       "              'TGATGCCGGTGGCGCAGGCGcagagcacagacggtgtcttcaataatccatttcggctcgcgatttctGGATCCGGGGGTGGAGGCTCT'),\n",
       "             ('SEC_MD_132',\n",
       "              'TGATGCCGGTGGCGCAGGCGtttaggctcgctatcagcacagggaacttcgttacactgagcaatgttGGATCCGGGGGTGGAGGCTCT'),\n",
       "             ('SEC_MD_133',\n",
       "              'TGATGCCGGTGGCGCAGGCGgtcaccctctctaacgtgcgggacgtgatcgcatccttggccattatgGGATCCGGGGGTGGAGGCTCT'),\n",
       "             ('SEC_MD_134',\n",
       "              'TGATGCCGGTGGCGCAGGCGgcttcattggccatcatgctgtttgtctgtagggatcgcccgtcctcgGGATCCGGGGGTGGAGGCTCT'),\n",
       "             ('SEC_MD_135',\n",
       "              'TGATGCCGGTGGCGCAGGCGcgggatcgacccagtagcagcgaagtgcgttattggcctcttgtcattGGATCCGGGGGTGGAGGCTCT'),\n",
       "             ('SEC_MD_136',\n",
       "              'TGATGCCGGTGGCGCAGGCGtactggccgctcgtaattcggcctgtcctggagaacagcggtgctgtcGGATCCGGGGGTGGAGGCTCT'),\n",
       "             ('SEC_MD_137',\n",
       "              'TGATGCCGGTGGCGCAGGCGgagaactctggggctgtggatgatgtgacatgcaccgcttccgaacccGGATCCGGGGGTGGAGGCTCT'),\n",
       "             ('SEC_MD_138',\n",
       "              'TGATGCCGGTGGCGCAGGCGtgcacagcatctgaacccacggtaaggattgtcggccgggatggactgGGATCCGGGGGTGGAGGCTCT'),\n",
       "             ('SEC_MD_139',\n",
       "              'TGATGCCGGTGGCGCAGGCGgtgggacgtgacggcttatgtgtcgacgttagagacgggaagttccatGGATCCGGGGGTGGAGGCTCT'),\n",
       "             ('SEC_MD_140',\n",
       "              'TGATGCCGGTGGCGCAGGCGcgcgacggtaaattccacaatgggaacccaattcagctgtctccatgtGGATCCGGGGGTGGAGGCTCT'),\n",
       "             ('SEC_MD_141',\n",
       "              'TGATGCCGGTGGCGCAGGCGattcaattaagcccctgtaaatccaataccgatcccaaccagctttggGGATCCGGGGGTGGAGGCTCT'),\n",
       "             ('SEC_MD_142',\n",
       "              'TGATGCCGGTGGCGCAGGCGgaccccaaccagctgtggaccatccgccgcgatgggacaatccggtccGGATCCGGGGGTGGAGGCTCT'),\n",
       "             ('SEC_MD_143',\n",
       "              'TGATGCCGGTGGCGCAGGCGgacggaacaatccgatccaatggccgctgtttgactacttacggttatGGATCCGGGGGTGGAGGCTCT'),\n",
       "             ('SEC_MD_144',\n",
       "              'TGATGCCGGTGGCGCAGGCGctgaccacctatggctacacggcaggagtgtacgtcatgatcttcgatGGATCCGGGGGTGGAGGCTCT'),\n",
       "             ('SEC_MD_145',\n",
       "              'TGATGCCGGTGGCGCAGGCGtatgtcatgatttttgattgcaatacagcagtgcgggaggcaaccctcGGATCCGGGGGTGGAGGCTCT'),\n",
       "             ('SEC_MD_146',\n",
       "              'TGATGCCGGTGGCGCAGGCGgtgagggaggccacgttatggcagatctggggcaacggaactattattGGATCCGGGGGTGGAGGCTCT'),\n",
       "             ('SEC_MD_147',\n",
       "              'TGATGCCGGTGGCGCAGGCGggcaacggcaccatcatcaacccacggagcaacctggtcctcggagccGGATCCGGGGGTGGAGGCTCT'),\n",
       "             ('SEC_MD_148',\n",
       "              'TGATGCCGGTGGCGCAGGCGaacttggtgttgggcgcagcttccggctcttcaggcaccacgctgactGGATCCGGGGGTGGAGGCTCT'),\n",
       "             ('SEC_MD_149',\n",
       "              'TGATGCCGGTGGCGCAGGCGagtgggactaccctcaccgtacagacgcaggtgtattccctcggacagGGATCCGGGGGTGGAGGCTCT'),\n",
       "             ('SEC_MD_150',\n",
       "              'TGATGCCGGTGGCGCAGGCGgtttattcactggggcagggatggctggccggtaatgatactgctcccGGATCCGGGGGTGGAGGCTCT'),\n",
       "             ('SEC_MD_151',\n",
       "              'TGATGCCGGTGGCGCAGGCGggcaatgacacagctccaagagaggttacaatctacggtttccgggatGGATCCGGGGGTGGAGGCTCT'),\n",
       "             ('SEC_MD_152',\n",
       "              'TGATGCCGGTGGCGCAGGCGatatatggttttagagatctgtgtatggaggccaacggggccagcgtcGGATCCGGGGGTGGAGGCTCT'),\n",
       "             ('SEC_MD_153',\n",
       "              'TGATGCCGGTGGCGCAGGCGgcaaatggagcgtccgtctgggtggaaacttgtggaagctccacggaaGGATCCGGGGGTGGAGGCTCT'),\n",
       "             ('SEC_MD_154',\n",
       "              'TGATGCCGGTGGCGCAGGCGtgtgggagctccactgagaatcaaaactgggctctttacggcgacggcGGATCCGGGGGTGGAGGCTCT'),\n",
       "             ('SEC_MD_155',\n",
       "              'TGATGCCGGTGGCGCAGGCGgctctatacggggacggctccatccggcccaaacagaaccaagatcagGGATCCGGGGGTGGAGGCTCT'),\n",
       "             ('SEC_MD_156',\n",
       "              'TGATGCCGGTGGCGCAGGCGaaacaaaatcaggaccagtgcctcacgtgtcaaggcgatagcgtggcaGGATCCGGGGGTGGAGGCTCT'),\n",
       "             ('SEC_MD_157',\n",
       "              'TGATGCCGGTGGCGCAGGCGcagggagatagcgtggcaactgtgataaatatcgtcagctgttccgccGGATCCGGGGGTGGAGGCTCT'),\n",
       "             ('SEC_MD_158',\n",
       "              'TGATGCCGGTGGCGCAGGCGattgtgtcttgttcagccggatcgtcggggcagcgctgggtgtttacgGGATCCGGGGGTGGAGGCTCT'),\n",
       "             ('SEC_MD_159',\n",
       "              'TGATGCCGGTGGCGCAGGCGcagagatgggtttttaccaatgaaggcacaattctgaacctgaataatGGATCCGGGGGTGGAGGCTCT'),\n",
       "             ('SEC_MD_160',\n",
       "              'TGATGCCGGTGGCGCAGGCGattctcaatctgaacaatggtctggtgatggatgtggcacagtcaaatGGATCCGGGGGTGGAGGCTCT'),\n",
       "             ('SEC_MD_161',\n",
       "              'TGATGCCGGTGGCGCAGGCGgacgtggcccagtccaacccctcactgagacggatcatcatttatccaGGATCCGGGGGTGGAGGCTCT'),\n",
       "             ('SEC_MD_162',\n",
       "              'TGATGCCGGTGGCGCAGGCGcgtattatcatctaccctgcgactggtaaccctaatcagatgtggttgGGATCCGGGGGTGGAGGCTCT'),\n",
       "             ('SEC_MD_163',\n",
       "              'TGATGCCGGTGGCGCAGGCGgggagcggcggctcagggggccctaatcagatgtggctccccgtccctGGATCCGGGGGTGGAGGCTCT'),\n",
       "             ('SEC_MD_164',\n",
       "              'TGATGCCGGTGGCGCAGGCGgctgctcccgaacccgaacccgcccccgagcctgaagccgaggcagatGGATCCGGGGGTGGAGGCTCT')])"
      ]
     },
     "execution_count": 10,
     "metadata": {},
     "output_type": "execute_result"
    }
   ],
   "source": [
    "# access to the NA format, for review or debug\n",
    "lib._nalibrary"
   ]
  },
  {
   "cell_type": "code",
   "execution_count": 11,
   "metadata": {
    "ExecuteTime": {
     "end_time": "2020-01-31T20:19:56.847211Z",
     "start_time": "2020-01-31T20:19:53.474010Z"
    }
   },
   "outputs": [],
   "source": [
    "# for review and debug load the outfile\n",
    "from ngskit.utils import fasta_tools"
   ]
  },
  {
   "cell_type": "code",
   "execution_count": 12,
   "metadata": {
    "ExecuteTime": {
     "end_time": "2020-01-31T20:20:08.887059Z",
     "start_time": "2020-01-31T20:20:08.878562Z"
    }
   },
   "outputs": [],
   "source": [
    "pa = fasta_tools.read_to('example_lib_NA.fasta', to='pandas')\n"
   ]
  },
  {
   "cell_type": "code",
   "execution_count": 13,
   "metadata": {
    "ExecuteTime": {
     "end_time": "2020-01-31T20:20:13.033777Z",
     "start_time": "2020-01-31T20:20:12.765442Z"
    }
   },
   "outputs": [
    {
     "data": {
      "text/html": [
       "<div>\n",
       "<style scoped>\n",
       "    .dataframe tbody tr th:only-of-type {\n",
       "        vertical-align: middle;\n",
       "    }\n",
       "\n",
       "    .dataframe tbody tr th {\n",
       "        vertical-align: top;\n",
       "    }\n",
       "\n",
       "    .dataframe thead th {\n",
       "        text-align: right;\n",
       "    }\n",
       "</style>\n",
       "<table border=\"1\" class=\"dataframe\">\n",
       "  <thead>\n",
       "    <tr style=\"text-align: right;\">\n",
       "      <th></th>\n",
       "      <th>ID</th>\n",
       "      <th>Seq</th>\n",
       "    </tr>\n",
       "  </thead>\n",
       "  <tbody>\n",
       "    <tr>\n",
       "      <th>0</th>\n",
       "      <td>SEC_MD_0_DCLGFMRKCIPDNDKC</td>\n",
       "      <td>TGATGCCGGTGGCGCAGGCGgactgtttaggattcatgcggaaatg...</td>\n",
       "    </tr>\n",
       "    <tr>\n",
       "      <th>1</th>\n",
       "      <td>SEC_MD_1_PDNDKCCRPNLVCSRT</td>\n",
       "      <td>TGATGCCGGTGGCGCAGGCGcccgataatgacaagtgctgtcggcc...</td>\n",
       "    </tr>\n",
       "    <tr>\n",
       "      <th>2</th>\n",
       "      <td>SEC_MD_2_GGLVCSRTHKWCKYVF</td>\n",
       "      <td>TGATGCCGGTGGCGCAGGCGggaggactggtctgtagcagaactca...</td>\n",
       "    </tr>\n",
       "    <tr>\n",
       "      <th>3</th>\n",
       "      <td>SEC_MD_3_EIEDDFLEDESFEAED</td>\n",
       "      <td>TGATGCCGGTGGCGCAGGCGgagatcgaggatgacttcctggagga...</td>\n",
       "    </tr>\n",
       "    <tr>\n",
       "      <th>4</th>\n",
       "      <td>SEC_MD_4_SFEAEDIIPFFENEQA</td>\n",
       "      <td>TGATGCCGGTGGCGCAGGCGagctttgaagccgaggatataatccc...</td>\n",
       "    </tr>\n",
       "  </tbody>\n",
       "</table>\n",
       "</div>"
      ],
      "text/plain": [
       "                          ID  \\\n",
       "0  SEC_MD_0_DCLGFMRKCIPDNDKC   \n",
       "1  SEC_MD_1_PDNDKCCRPNLVCSRT   \n",
       "2  SEC_MD_2_GGLVCSRTHKWCKYVF   \n",
       "3  SEC_MD_3_EIEDDFLEDESFEAED   \n",
       "4  SEC_MD_4_SFEAEDIIPFFENEQA   \n",
       "\n",
       "                                                 Seq  \n",
       "0  TGATGCCGGTGGCGCAGGCGgactgtttaggattcatgcggaaatg...  \n",
       "1  TGATGCCGGTGGCGCAGGCGcccgataatgacaagtgctgtcggcc...  \n",
       "2  TGATGCCGGTGGCGCAGGCGggaggactggtctgtagcagaactca...  \n",
       "3  TGATGCCGGTGGCGCAGGCGgagatcgaggatgacttcctggagga...  \n",
       "4  TGATGCCGGTGGCGCAGGCGagctttgaagccgaggatataatccc...  "
      ]
     },
     "execution_count": 13,
     "metadata": {},
     "output_type": "execute_result"
    }
   ],
   "source": [
    "pa.head(5)"
   ]
  },
  {
   "cell_type": "code",
   "execution_count": null,
   "metadata": {},
   "outputs": [],
   "source": []
  }
 ],
 "metadata": {
  "kernelspec": {
   "display_name": "Environment (conda_ngs)",
   "language": "python",
   "name": "conda_ngs"
  },
  "language_info": {
   "codemirror_mode": {
    "name": "ipython",
    "version": 3
   },
   "file_extension": ".py",
   "mimetype": "text/x-python",
   "name": "python",
   "nbconvert_exporter": "python",
   "pygments_lexer": "ipython3",
   "version": "3.6.7"
  },
  "nav_menu": {},
  "toc": {
   "navigate_menu": true,
   "number_sections": true,
   "sideBar": true,
   "threshold": 6,
   "toc_cell": false,
   "toc_section_display": "block",
   "toc_window_display": false
  }
 },
 "nbformat": 4,
 "nbformat_minor": 2
}
