{
 "cells": [
  {
   "cell_type": "markdown",
   "metadata": {},
   "source": [
    "# PWMs\n",
    "\n",
    "This notebook is a short example of how to generate a PWM from a MSA, and a few analyses you can do using Ngskit. "
   ]
  },
  {
   "cell_type": "code",
   "execution_count": 1,
   "metadata": {
    "ExecuteTime": {
     "end_time": "2020-03-02T20:20:31.785081Z",
     "start_time": "2020-03-02T20:20:25.229699Z"
    }
   },
   "outputs": [],
   "source": [
    "import ngskit.analysis as nk\n",
    "import seaborn as sns"
   ]
  },
  {
   "cell_type": "code",
   "execution_count": 2,
   "metadata": {
    "ExecuteTime": {
     "end_time": "2020-03-02T20:20:31.796192Z",
     "start_time": "2020-03-02T20:20:31.789060Z"
    }
   },
   "outputs": [],
   "source": [
    "# Here a prealigned results from PxL paper.\n",
    "\n",
    "Pep_DATA = ['FTDVPALNY',\n",
    "         'FDSTPYLAL',\n",
    "         'FGSWFSWLT',\n",
    "         'LRAIYAYFM',\n",
    "         'LEDKPILDF',\n",
    "         'LGRIPEIFA',\n",
    "         'SSTTPKLKP',\n",
    "         'WPNLPFQAL',\n",
    "         'LFQAPLIVL',\n",
    "         'LSSVPPLPY',\n",
    "         'TFSTPRLIY',\n",
    "         'SKNIPSLSP',\n",
    "         'GNKVENLGF',\n",
    "         'LRIWSAIVH',\n",
    "         'LKDLLKYFI',\n",
    "         'LELAPQLSF',\n",
    "         'LKSTQPLLS',\n",
    "         'MALVEAMLT',\n",
    "         'FLANTPYLS',\n",
    "         'FAEKLRNLI',\n",
    "         'DISDVPSLK',\n",
    "         'YDLNIPKPT',\n",
    "         'SFKNAPLLA']"
   ]
  },
  {
   "cell_type": "code",
   "execution_count": 3,
   "metadata": {
    "ExecuteTime": {
     "end_time": "2020-03-02T20:20:31.977742Z",
     "start_time": "2020-03-02T20:20:31.799600Z"
    }
   },
   "outputs": [
    {
     "data": {
      "text/plain": [
       "{'F': 5, 'L': 9, 'S': 3, 'W': 1, 'T': 1, 'G': 1, 'M': 1, 'D': 1, 'Y': 1}"
      ]
     },
     "execution_count": 3,
     "metadata": {},
     "output_type": "execute_result"
    }
   ],
   "source": [
    "# raw frequency matrix returns a dict\n",
    "pfm = nk.get_pfm(Pep_DATA)\n",
    "# Values for position 1\n",
    "pfm[0]"
   ]
  },
  {
   "cell_type": "code",
   "execution_count": 4,
   "metadata": {
    "ExecuteTime": {
     "end_time": "2020-03-02T20:20:32.278860Z",
     "start_time": "2020-03-02T20:20:31.980946Z"
    }
   },
   "outputs": [
    {
     "data": {
      "text/html": [
       "<div>\n",
       "<style scoped>\n",
       "    .dataframe tbody tr th:only-of-type {\n",
       "        vertical-align: middle;\n",
       "    }\n",
       "\n",
       "    .dataframe tbody tr th {\n",
       "        vertical-align: top;\n",
       "    }\n",
       "\n",
       "    .dataframe thead th {\n",
       "        text-align: right;\n",
       "    }\n",
       "</style>\n",
       "<table border=\"1\" class=\"dataframe\">\n",
       "  <thead>\n",
       "    <tr style=\"text-align: right;\">\n",
       "      <th></th>\n",
       "      <th>0</th>\n",
       "      <th>1</th>\n",
       "      <th>2</th>\n",
       "      <th>3</th>\n",
       "      <th>4</th>\n",
       "      <th>5</th>\n",
       "      <th>6</th>\n",
       "      <th>7</th>\n",
       "      <th>8</th>\n",
       "    </tr>\n",
       "  </thead>\n",
       "  <tbody>\n",
       "    <tr>\n",
       "      <th>R</th>\n",
       "      <td>0.041667</td>\n",
       "      <td>0.125000</td>\n",
       "      <td>0.083333</td>\n",
       "      <td>0.041667</td>\n",
       "      <td>0.041667</td>\n",
       "      <td>0.125000</td>\n",
       "      <td>0.041667</td>\n",
       "      <td>0.041667</td>\n",
       "      <td>0.041667</td>\n",
       "    </tr>\n",
       "    <tr>\n",
       "      <th>H</th>\n",
       "      <td>0.041667</td>\n",
       "      <td>0.041667</td>\n",
       "      <td>0.041667</td>\n",
       "      <td>0.041667</td>\n",
       "      <td>0.041667</td>\n",
       "      <td>0.041667</td>\n",
       "      <td>0.041667</td>\n",
       "      <td>0.041667</td>\n",
       "      <td>0.083333</td>\n",
       "    </tr>\n",
       "    <tr>\n",
       "      <th>K</th>\n",
       "      <td>0.041667</td>\n",
       "      <td>0.166667</td>\n",
       "      <td>0.125000</td>\n",
       "      <td>0.125000</td>\n",
       "      <td>0.041667</td>\n",
       "      <td>0.125000</td>\n",
       "      <td>0.083333</td>\n",
       "      <td>0.083333</td>\n",
       "      <td>0.083333</td>\n",
       "    </tr>\n",
       "    <tr>\n",
       "      <th>D</th>\n",
       "      <td>0.083333</td>\n",
       "      <td>0.125000</td>\n",
       "      <td>0.166667</td>\n",
       "      <td>0.083333</td>\n",
       "      <td>0.041667</td>\n",
       "      <td>0.041667</td>\n",
       "      <td>0.041667</td>\n",
       "      <td>0.083333</td>\n",
       "      <td>0.041667</td>\n",
       "    </tr>\n",
       "    <tr>\n",
       "      <th>E</th>\n",
       "      <td>0.041667</td>\n",
       "      <td>0.125000</td>\n",
       "      <td>0.083333</td>\n",
       "      <td>0.041667</td>\n",
       "      <td>0.125000</td>\n",
       "      <td>0.083333</td>\n",
       "      <td>0.041667</td>\n",
       "      <td>0.041667</td>\n",
       "      <td>0.041667</td>\n",
       "    </tr>\n",
       "    <tr>\n",
       "      <th>S</th>\n",
       "      <td>0.166667</td>\n",
       "      <td>0.125000</td>\n",
       "      <td>0.291667</td>\n",
       "      <td>0.041667</td>\n",
       "      <td>0.083333</td>\n",
       "      <td>0.125000</td>\n",
       "      <td>0.083333</td>\n",
       "      <td>0.125000</td>\n",
       "      <td>0.125000</td>\n",
       "    </tr>\n",
       "    <tr>\n",
       "      <th>T</th>\n",
       "      <td>0.083333</td>\n",
       "      <td>0.083333</td>\n",
       "      <td>0.083333</td>\n",
       "      <td>0.208333</td>\n",
       "      <td>0.083333</td>\n",
       "      <td>0.041667</td>\n",
       "      <td>0.041667</td>\n",
       "      <td>0.041667</td>\n",
       "      <td>0.166667</td>\n",
       "    </tr>\n",
       "    <tr>\n",
       "      <th>N</th>\n",
       "      <td>0.041667</td>\n",
       "      <td>0.083333</td>\n",
       "      <td>0.125000</td>\n",
       "      <td>0.166667</td>\n",
       "      <td>0.041667</td>\n",
       "      <td>0.083333</td>\n",
       "      <td>0.083333</td>\n",
       "      <td>0.083333</td>\n",
       "      <td>0.041667</td>\n",
       "    </tr>\n",
       "    <tr>\n",
       "      <th>Q</th>\n",
       "      <td>0.041667</td>\n",
       "      <td>0.041667</td>\n",
       "      <td>0.083333</td>\n",
       "      <td>0.041667</td>\n",
       "      <td>0.083333</td>\n",
       "      <td>0.083333</td>\n",
       "      <td>0.083333</td>\n",
       "      <td>0.041667</td>\n",
       "      <td>0.041667</td>\n",
       "    </tr>\n",
       "    <tr>\n",
       "      <th>C</th>\n",
       "      <td>0.041667</td>\n",
       "      <td>0.041667</td>\n",
       "      <td>0.041667</td>\n",
       "      <td>0.041667</td>\n",
       "      <td>0.041667</td>\n",
       "      <td>0.041667</td>\n",
       "      <td>0.041667</td>\n",
       "      <td>0.041667</td>\n",
       "      <td>0.041667</td>\n",
       "    </tr>\n",
       "    <tr>\n",
       "      <th>G</th>\n",
       "      <td>0.083333</td>\n",
       "      <td>0.125000</td>\n",
       "      <td>0.041667</td>\n",
       "      <td>0.041667</td>\n",
       "      <td>0.041667</td>\n",
       "      <td>0.041667</td>\n",
       "      <td>0.041667</td>\n",
       "      <td>0.083333</td>\n",
       "      <td>0.041667</td>\n",
       "    </tr>\n",
       "    <tr>\n",
       "      <th>P</th>\n",
       "      <td>0.041667</td>\n",
       "      <td>0.083333</td>\n",
       "      <td>0.041667</td>\n",
       "      <td>0.041667</td>\n",
       "      <td>0.500000</td>\n",
       "      <td>0.291667</td>\n",
       "      <td>0.041667</td>\n",
       "      <td>0.125000</td>\n",
       "      <td>0.125000</td>\n",
       "    </tr>\n",
       "    <tr>\n",
       "      <th>A</th>\n",
       "      <td>0.041667</td>\n",
       "      <td>0.125000</td>\n",
       "      <td>0.125000</td>\n",
       "      <td>0.125000</td>\n",
       "      <td>0.083333</td>\n",
       "      <td>0.208333</td>\n",
       "      <td>0.041667</td>\n",
       "      <td>0.125000</td>\n",
       "      <td>0.125000</td>\n",
       "    </tr>\n",
       "    <tr>\n",
       "      <th>V</th>\n",
       "      <td>0.041667</td>\n",
       "      <td>0.041667</td>\n",
       "      <td>0.041667</td>\n",
       "      <td>0.208333</td>\n",
       "      <td>0.083333</td>\n",
       "      <td>0.041667</td>\n",
       "      <td>0.041667</td>\n",
       "      <td>0.125000</td>\n",
       "      <td>0.041667</td>\n",
       "    </tr>\n",
       "    <tr>\n",
       "      <th>I</th>\n",
       "      <td>0.041667</td>\n",
       "      <td>0.083333</td>\n",
       "      <td>0.083333</td>\n",
       "      <td>0.166667</td>\n",
       "      <td>0.083333</td>\n",
       "      <td>0.083333</td>\n",
       "      <td>0.166667</td>\n",
       "      <td>0.083333</td>\n",
       "      <td>0.125000</td>\n",
       "    </tr>\n",
       "    <tr>\n",
       "      <th>L</th>\n",
       "      <td>0.416667</td>\n",
       "      <td>0.083333</td>\n",
       "      <td>0.166667</td>\n",
       "      <td>0.125000</td>\n",
       "      <td>0.125000</td>\n",
       "      <td>0.083333</td>\n",
       "      <td>0.500000</td>\n",
       "      <td>0.333333</td>\n",
       "      <td>0.166667</td>\n",
       "    </tr>\n",
       "    <tr>\n",
       "      <th>M</th>\n",
       "      <td>0.083333</td>\n",
       "      <td>0.041667</td>\n",
       "      <td>0.041667</td>\n",
       "      <td>0.041667</td>\n",
       "      <td>0.041667</td>\n",
       "      <td>0.041667</td>\n",
       "      <td>0.083333</td>\n",
       "      <td>0.041667</td>\n",
       "      <td>0.083333</td>\n",
       "    </tr>\n",
       "    <tr>\n",
       "      <th>F</th>\n",
       "      <td>0.250000</td>\n",
       "      <td>0.166667</td>\n",
       "      <td>0.041667</td>\n",
       "      <td>0.041667</td>\n",
       "      <td>0.083333</td>\n",
       "      <td>0.083333</td>\n",
       "      <td>0.041667</td>\n",
       "      <td>0.166667</td>\n",
       "      <td>0.166667</td>\n",
       "    </tr>\n",
       "    <tr>\n",
       "      <th>Y</th>\n",
       "      <td>0.083333</td>\n",
       "      <td>0.041667</td>\n",
       "      <td>0.041667</td>\n",
       "      <td>0.041667</td>\n",
       "      <td>0.083333</td>\n",
       "      <td>0.083333</td>\n",
       "      <td>0.166667</td>\n",
       "      <td>0.041667</td>\n",
       "      <td>0.166667</td>\n",
       "    </tr>\n",
       "    <tr>\n",
       "      <th>W</th>\n",
       "      <td>0.083333</td>\n",
       "      <td>0.041667</td>\n",
       "      <td>0.041667</td>\n",
       "      <td>0.125000</td>\n",
       "      <td>0.041667</td>\n",
       "      <td>0.041667</td>\n",
       "      <td>0.083333</td>\n",
       "      <td>0.041667</td>\n",
       "      <td>0.041667</td>\n",
       "    </tr>\n",
       "  </tbody>\n",
       "</table>\n",
       "</div>"
      ],
      "text/plain": [
       "          0         1         2         3         4         5         6  \\\n",
       "R  0.041667  0.125000  0.083333  0.041667  0.041667  0.125000  0.041667   \n",
       "H  0.041667  0.041667  0.041667  0.041667  0.041667  0.041667  0.041667   \n",
       "K  0.041667  0.166667  0.125000  0.125000  0.041667  0.125000  0.083333   \n",
       "D  0.083333  0.125000  0.166667  0.083333  0.041667  0.041667  0.041667   \n",
       "E  0.041667  0.125000  0.083333  0.041667  0.125000  0.083333  0.041667   \n",
       "S  0.166667  0.125000  0.291667  0.041667  0.083333  0.125000  0.083333   \n",
       "T  0.083333  0.083333  0.083333  0.208333  0.083333  0.041667  0.041667   \n",
       "N  0.041667  0.083333  0.125000  0.166667  0.041667  0.083333  0.083333   \n",
       "Q  0.041667  0.041667  0.083333  0.041667  0.083333  0.083333  0.083333   \n",
       "C  0.041667  0.041667  0.041667  0.041667  0.041667  0.041667  0.041667   \n",
       "G  0.083333  0.125000  0.041667  0.041667  0.041667  0.041667  0.041667   \n",
       "P  0.041667  0.083333  0.041667  0.041667  0.500000  0.291667  0.041667   \n",
       "A  0.041667  0.125000  0.125000  0.125000  0.083333  0.208333  0.041667   \n",
       "V  0.041667  0.041667  0.041667  0.208333  0.083333  0.041667  0.041667   \n",
       "I  0.041667  0.083333  0.083333  0.166667  0.083333  0.083333  0.166667   \n",
       "L  0.416667  0.083333  0.166667  0.125000  0.125000  0.083333  0.500000   \n",
       "M  0.083333  0.041667  0.041667  0.041667  0.041667  0.041667  0.083333   \n",
       "F  0.250000  0.166667  0.041667  0.041667  0.083333  0.083333  0.041667   \n",
       "Y  0.083333  0.041667  0.041667  0.041667  0.083333  0.083333  0.166667   \n",
       "W  0.083333  0.041667  0.041667  0.125000  0.041667  0.041667  0.083333   \n",
       "\n",
       "          7         8  \n",
       "R  0.041667  0.041667  \n",
       "H  0.041667  0.083333  \n",
       "K  0.083333  0.083333  \n",
       "D  0.083333  0.041667  \n",
       "E  0.041667  0.041667  \n",
       "S  0.125000  0.125000  \n",
       "T  0.041667  0.166667  \n",
       "N  0.083333  0.041667  \n",
       "Q  0.041667  0.041667  \n",
       "C  0.041667  0.041667  \n",
       "G  0.083333  0.041667  \n",
       "P  0.125000  0.125000  \n",
       "A  0.125000  0.125000  \n",
       "V  0.125000  0.041667  \n",
       "I  0.083333  0.125000  \n",
       "L  0.333333  0.166667  \n",
       "M  0.041667  0.083333  \n",
       "F  0.166667  0.166667  \n",
       "Y  0.041667  0.166667  \n",
       "W  0.041667  0.041667  "
      ]
     },
     "execution_count": 4,
     "metadata": {},
     "output_type": "execute_result"
    }
   ],
   "source": [
    "# probabilty matrix, returns a df (pandas), adding pseudocounts\n",
    "ppm = nk.get_ppm(Pep_DATA, pseudocounts=1)\n",
    "ppm"
   ]
  },
  {
   "cell_type": "code",
   "execution_count": 5,
   "metadata": {
    "ExecuteTime": {
     "end_time": "2020-03-02T20:20:32.407619Z",
     "start_time": "2020-03-02T20:20:32.282290Z"
    }
   },
   "outputs": [
    {
     "data": {
      "text/html": [
       "<div>\n",
       "<style scoped>\n",
       "    .dataframe tbody tr th:only-of-type {\n",
       "        vertical-align: middle;\n",
       "    }\n",
       "\n",
       "    .dataframe tbody tr th {\n",
       "        vertical-align: top;\n",
       "    }\n",
       "\n",
       "    .dataframe thead th {\n",
       "        text-align: right;\n",
       "    }\n",
       "</style>\n",
       "<table border=\"1\" class=\"dataframe\">\n",
       "  <thead>\n",
       "    <tr style=\"text-align: right;\">\n",
       "      <th></th>\n",
       "      <th>0</th>\n",
       "      <th>1</th>\n",
       "      <th>2</th>\n",
       "      <th>3</th>\n",
       "      <th>4</th>\n",
       "      <th>5</th>\n",
       "      <th>6</th>\n",
       "      <th>7</th>\n",
       "      <th>8</th>\n",
       "    </tr>\n",
       "  </thead>\n",
       "  <tbody>\n",
       "    <tr>\n",
       "      <th>R</th>\n",
       "      <td>-0.263034</td>\n",
       "      <td>1.321928</td>\n",
       "      <td>0.736966</td>\n",
       "      <td>-0.263034</td>\n",
       "      <td>-0.263034</td>\n",
       "      <td>1.321928</td>\n",
       "      <td>-0.263034</td>\n",
       "      <td>-0.263034</td>\n",
       "      <td>-0.263034</td>\n",
       "    </tr>\n",
       "    <tr>\n",
       "      <th>H</th>\n",
       "      <td>-0.263034</td>\n",
       "      <td>-0.263034</td>\n",
       "      <td>-0.263034</td>\n",
       "      <td>-0.263034</td>\n",
       "      <td>-0.263034</td>\n",
       "      <td>-0.263034</td>\n",
       "      <td>-0.263034</td>\n",
       "      <td>-0.263034</td>\n",
       "      <td>0.736966</td>\n",
       "    </tr>\n",
       "    <tr>\n",
       "      <th>K</th>\n",
       "      <td>-0.263034</td>\n",
       "      <td>1.736966</td>\n",
       "      <td>1.321928</td>\n",
       "      <td>1.321928</td>\n",
       "      <td>-0.263034</td>\n",
       "      <td>1.321928</td>\n",
       "      <td>0.736966</td>\n",
       "      <td>0.736966</td>\n",
       "      <td>0.736966</td>\n",
       "    </tr>\n",
       "    <tr>\n",
       "      <th>D</th>\n",
       "      <td>0.736966</td>\n",
       "      <td>1.321928</td>\n",
       "      <td>1.736966</td>\n",
       "      <td>0.736966</td>\n",
       "      <td>-0.263034</td>\n",
       "      <td>-0.263034</td>\n",
       "      <td>-0.263034</td>\n",
       "      <td>0.736966</td>\n",
       "      <td>-0.263034</td>\n",
       "    </tr>\n",
       "    <tr>\n",
       "      <th>E</th>\n",
       "      <td>-0.263034</td>\n",
       "      <td>1.321928</td>\n",
       "      <td>0.736966</td>\n",
       "      <td>-0.263034</td>\n",
       "      <td>1.321928</td>\n",
       "      <td>0.736966</td>\n",
       "      <td>-0.263034</td>\n",
       "      <td>-0.263034</td>\n",
       "      <td>-0.263034</td>\n",
       "    </tr>\n",
       "    <tr>\n",
       "      <th>S</th>\n",
       "      <td>1.736966</td>\n",
       "      <td>1.321928</td>\n",
       "      <td>2.544321</td>\n",
       "      <td>-0.263034</td>\n",
       "      <td>0.736966</td>\n",
       "      <td>1.321928</td>\n",
       "      <td>0.736966</td>\n",
       "      <td>1.321928</td>\n",
       "      <td>1.321928</td>\n",
       "    </tr>\n",
       "    <tr>\n",
       "      <th>T</th>\n",
       "      <td>0.736966</td>\n",
       "      <td>0.736966</td>\n",
       "      <td>0.736966</td>\n",
       "      <td>2.058894</td>\n",
       "      <td>0.736966</td>\n",
       "      <td>-0.263034</td>\n",
       "      <td>-0.263034</td>\n",
       "      <td>-0.263034</td>\n",
       "      <td>1.736966</td>\n",
       "    </tr>\n",
       "    <tr>\n",
       "      <th>N</th>\n",
       "      <td>-0.263034</td>\n",
       "      <td>0.736966</td>\n",
       "      <td>1.321928</td>\n",
       "      <td>1.736966</td>\n",
       "      <td>-0.263034</td>\n",
       "      <td>0.736966</td>\n",
       "      <td>0.736966</td>\n",
       "      <td>0.736966</td>\n",
       "      <td>-0.263034</td>\n",
       "    </tr>\n",
       "    <tr>\n",
       "      <th>Q</th>\n",
       "      <td>-0.263034</td>\n",
       "      <td>-0.263034</td>\n",
       "      <td>0.736966</td>\n",
       "      <td>-0.263034</td>\n",
       "      <td>0.736966</td>\n",
       "      <td>0.736966</td>\n",
       "      <td>0.736966</td>\n",
       "      <td>-0.263034</td>\n",
       "      <td>-0.263034</td>\n",
       "    </tr>\n",
       "    <tr>\n",
       "      <th>C</th>\n",
       "      <td>-0.263034</td>\n",
       "      <td>-0.263034</td>\n",
       "      <td>-0.263034</td>\n",
       "      <td>-0.263034</td>\n",
       "      <td>-0.263034</td>\n",
       "      <td>-0.263034</td>\n",
       "      <td>-0.263034</td>\n",
       "      <td>-0.263034</td>\n",
       "      <td>-0.263034</td>\n",
       "    </tr>\n",
       "    <tr>\n",
       "      <th>G</th>\n",
       "      <td>0.736966</td>\n",
       "      <td>1.321928</td>\n",
       "      <td>-0.263034</td>\n",
       "      <td>-0.263034</td>\n",
       "      <td>-0.263034</td>\n",
       "      <td>-0.263034</td>\n",
       "      <td>-0.263034</td>\n",
       "      <td>0.736966</td>\n",
       "      <td>-0.263034</td>\n",
       "    </tr>\n",
       "    <tr>\n",
       "      <th>P</th>\n",
       "      <td>-0.263034</td>\n",
       "      <td>0.736966</td>\n",
       "      <td>-0.263034</td>\n",
       "      <td>-0.263034</td>\n",
       "      <td>3.321928</td>\n",
       "      <td>2.544321</td>\n",
       "      <td>-0.263034</td>\n",
       "      <td>1.321928</td>\n",
       "      <td>1.321928</td>\n",
       "    </tr>\n",
       "    <tr>\n",
       "      <th>A</th>\n",
       "      <td>-0.263034</td>\n",
       "      <td>1.321928</td>\n",
       "      <td>1.321928</td>\n",
       "      <td>1.321928</td>\n",
       "      <td>0.736966</td>\n",
       "      <td>2.058894</td>\n",
       "      <td>-0.263034</td>\n",
       "      <td>1.321928</td>\n",
       "      <td>1.321928</td>\n",
       "    </tr>\n",
       "    <tr>\n",
       "      <th>V</th>\n",
       "      <td>-0.263034</td>\n",
       "      <td>-0.263034</td>\n",
       "      <td>-0.263034</td>\n",
       "      <td>2.058894</td>\n",
       "      <td>0.736966</td>\n",
       "      <td>-0.263034</td>\n",
       "      <td>-0.263034</td>\n",
       "      <td>1.321928</td>\n",
       "      <td>-0.263034</td>\n",
       "    </tr>\n",
       "    <tr>\n",
       "      <th>I</th>\n",
       "      <td>-0.263034</td>\n",
       "      <td>0.736966</td>\n",
       "      <td>0.736966</td>\n",
       "      <td>1.736966</td>\n",
       "      <td>0.736966</td>\n",
       "      <td>0.736966</td>\n",
       "      <td>1.736966</td>\n",
       "      <td>0.736966</td>\n",
       "      <td>1.321928</td>\n",
       "    </tr>\n",
       "    <tr>\n",
       "      <th>L</th>\n",
       "      <td>3.058894</td>\n",
       "      <td>0.736966</td>\n",
       "      <td>1.736966</td>\n",
       "      <td>1.321928</td>\n",
       "      <td>1.321928</td>\n",
       "      <td>0.736966</td>\n",
       "      <td>3.321928</td>\n",
       "      <td>2.736966</td>\n",
       "      <td>1.736966</td>\n",
       "    </tr>\n",
       "    <tr>\n",
       "      <th>M</th>\n",
       "      <td>0.736966</td>\n",
       "      <td>-0.263034</td>\n",
       "      <td>-0.263034</td>\n",
       "      <td>-0.263034</td>\n",
       "      <td>-0.263034</td>\n",
       "      <td>-0.263034</td>\n",
       "      <td>0.736966</td>\n",
       "      <td>-0.263034</td>\n",
       "      <td>0.736966</td>\n",
       "    </tr>\n",
       "    <tr>\n",
       "      <th>F</th>\n",
       "      <td>2.321928</td>\n",
       "      <td>1.736966</td>\n",
       "      <td>-0.263034</td>\n",
       "      <td>-0.263034</td>\n",
       "      <td>0.736966</td>\n",
       "      <td>0.736966</td>\n",
       "      <td>-0.263034</td>\n",
       "      <td>1.736966</td>\n",
       "      <td>1.736966</td>\n",
       "    </tr>\n",
       "    <tr>\n",
       "      <th>Y</th>\n",
       "      <td>0.736966</td>\n",
       "      <td>-0.263034</td>\n",
       "      <td>-0.263034</td>\n",
       "      <td>-0.263034</td>\n",
       "      <td>0.736966</td>\n",
       "      <td>0.736966</td>\n",
       "      <td>1.736966</td>\n",
       "      <td>-0.263034</td>\n",
       "      <td>1.736966</td>\n",
       "    </tr>\n",
       "    <tr>\n",
       "      <th>W</th>\n",
       "      <td>0.736966</td>\n",
       "      <td>-0.263034</td>\n",
       "      <td>-0.263034</td>\n",
       "      <td>1.321928</td>\n",
       "      <td>-0.263034</td>\n",
       "      <td>-0.263034</td>\n",
       "      <td>0.736966</td>\n",
       "      <td>-0.263034</td>\n",
       "      <td>-0.263034</td>\n",
       "    </tr>\n",
       "  </tbody>\n",
       "</table>\n",
       "</div>"
      ],
      "text/plain": [
       "          0         1         2         3         4         5         6  \\\n",
       "R -0.263034  1.321928  0.736966 -0.263034 -0.263034  1.321928 -0.263034   \n",
       "H -0.263034 -0.263034 -0.263034 -0.263034 -0.263034 -0.263034 -0.263034   \n",
       "K -0.263034  1.736966  1.321928  1.321928 -0.263034  1.321928  0.736966   \n",
       "D  0.736966  1.321928  1.736966  0.736966 -0.263034 -0.263034 -0.263034   \n",
       "E -0.263034  1.321928  0.736966 -0.263034  1.321928  0.736966 -0.263034   \n",
       "S  1.736966  1.321928  2.544321 -0.263034  0.736966  1.321928  0.736966   \n",
       "T  0.736966  0.736966  0.736966  2.058894  0.736966 -0.263034 -0.263034   \n",
       "N -0.263034  0.736966  1.321928  1.736966 -0.263034  0.736966  0.736966   \n",
       "Q -0.263034 -0.263034  0.736966 -0.263034  0.736966  0.736966  0.736966   \n",
       "C -0.263034 -0.263034 -0.263034 -0.263034 -0.263034 -0.263034 -0.263034   \n",
       "G  0.736966  1.321928 -0.263034 -0.263034 -0.263034 -0.263034 -0.263034   \n",
       "P -0.263034  0.736966 -0.263034 -0.263034  3.321928  2.544321 -0.263034   \n",
       "A -0.263034  1.321928  1.321928  1.321928  0.736966  2.058894 -0.263034   \n",
       "V -0.263034 -0.263034 -0.263034  2.058894  0.736966 -0.263034 -0.263034   \n",
       "I -0.263034  0.736966  0.736966  1.736966  0.736966  0.736966  1.736966   \n",
       "L  3.058894  0.736966  1.736966  1.321928  1.321928  0.736966  3.321928   \n",
       "M  0.736966 -0.263034 -0.263034 -0.263034 -0.263034 -0.263034  0.736966   \n",
       "F  2.321928  1.736966 -0.263034 -0.263034  0.736966  0.736966 -0.263034   \n",
       "Y  0.736966 -0.263034 -0.263034 -0.263034  0.736966  0.736966  1.736966   \n",
       "W  0.736966 -0.263034 -0.263034  1.321928 -0.263034 -0.263034  0.736966   \n",
       "\n",
       "          7         8  \n",
       "R -0.263034 -0.263034  \n",
       "H -0.263034  0.736966  \n",
       "K  0.736966  0.736966  \n",
       "D  0.736966 -0.263034  \n",
       "E -0.263034 -0.263034  \n",
       "S  1.321928  1.321928  \n",
       "T -0.263034  1.736966  \n",
       "N  0.736966 -0.263034  \n",
       "Q -0.263034 -0.263034  \n",
       "C -0.263034 -0.263034  \n",
       "G  0.736966 -0.263034  \n",
       "P  1.321928  1.321928  \n",
       "A  1.321928  1.321928  \n",
       "V  1.321928 -0.263034  \n",
       "I  0.736966  1.321928  \n",
       "L  2.736966  1.736966  \n",
       "M -0.263034  0.736966  \n",
       "F  1.736966  1.736966  \n",
       "Y -0.263034  1.736966  \n",
       "W -0.263034 -0.263034  "
      ]
     },
     "execution_count": 5,
     "metadata": {},
     "output_type": "execute_result"
    }
   ],
   "source": [
    "# probabilty wieght, returns a df (pandas)\n",
    "pwm = nk.get_pwm(Pep_DATA, pseudocounts=1)\n",
    "pwm"
   ]
  },
  {
   "cell_type": "code",
   "execution_count": 6,
   "metadata": {
    "ExecuteTime": {
     "end_time": "2020-03-02T20:20:33.750306Z",
     "start_time": "2020-03-02T20:20:32.412236Z"
    }
   },
   "outputs": [
    {
     "name": "stderr",
     "output_type": "stream",
     "text": [
      "/home/ccorbi/anaconda3/envs/libs/lib/python3.6/site-packages/ngskit/analysis.py:396: RuntimeWarning: divide by zero encountered in log\n",
      "  r =  prob_ij* ( np.log(prob_ij/(prob_ai*prob_aj)))\n",
      "/home/ccorbi/anaconda3/envs/libs/lib/python3.6/site-packages/ngskit/analysis.py:396: RuntimeWarning: invalid value encountered in double_scalars\n",
      "  r =  prob_ij* ( np.log(prob_ij/(prob_ai*prob_aj)))\n",
      "/home/ccorbi/anaconda3/envs/libs/lib/python3.6/site-packages/seaborn/matrix.py:603: ClusterWarning: scipy.cluster: The symmetric non-negative hollow observation matrix looks suspiciously like an uncondensed distance matrix\n",
      "  metric=self.metric)\n",
      "/home/ccorbi/anaconda3/envs/libs/lib/python3.6/site-packages/seaborn/matrix.py:603: ClusterWarning: scipy.cluster: The symmetric non-negative hollow observation matrix looks suspiciously like an uncondensed distance matrix\n",
      "  metric=self.metric)\n"
     ]
    },
    {
     "data": {
      "text/plain": [
       "<seaborn.matrix.ClusterGrid at 0x7fb0574c2c50>"
      ]
     },
     "execution_count": 6,
     "metadata": {},
     "output_type": "execute_result"
    },
    {
     "data": {
      "image/png": "[encoded data removed]",
      "text/plain": [
       "<Figure size 720x720 with 4 Axes>"
      ]
     },
     "metadata": {
      "needs_background": "light"
     },
     "output_type": "display_data"
    }
   ],
   "source": [
    "# Quickly Plot Mutual information Matrix\n",
    "sns.clustermap(nk.mi_matrix(Pep_DATA).astype(float))"
   ]
  },
  {
   "cell_type": "code",
   "execution_count": 7,
   "metadata": {
    "ExecuteTime": {
     "end_time": "2020-03-02T20:20:33.760606Z",
     "start_time": "2020-03-02T20:20:33.754676Z"
    }
   },
   "outputs": [
    {
     "data": {
      "text/plain": [
       "20"
      ]
     },
     "execution_count": 7,
     "metadata": {},
     "output_type": "execute_result"
    }
   ],
   "source": [
    "# score target seqeunce with the pwm\n",
    "target = 'GLLPPPLPYGGGGLLLEWER'\n",
    "len(target)"
   ]
  },
  {
   "cell_type": "code",
   "execution_count": null,
   "metadata": {},
   "outputs": [],
   "source": []
  },
  {
   "cell_type": "code",
   "execution_count": 8,
   "metadata": {
    "ExecuteTime": {
     "end_time": "2020-03-02T20:20:33.980884Z",
     "start_time": "2020-03-02T20:20:33.763711Z"
    }
   },
   "outputs": [
    {
     "data": {
      "text/plain": [
       "{'GLLPPPLPY': 15.194932771716926,\n",
       " 'LLPPPLPYG': 6.539580943104372,\n",
       " 'LPPPLPYGG': 9.346935865161978,\n",
       " 'PPPLPYGGG': 5.802615348938165,\n",
       " 'PPLPYGGGG': 2.6326903474958545,\n",
       " 'PLPYGGGGL': 1.632690347495854,\n",
       " 'LPYGGGGLL': 6.954618442383218,\n",
       " 'PYGGGGLLL': 6.217652848217011,\n",
       " 'YGGGGLLLE': 7.802615348938167,\n",
       " 'GGGGLLLEW': 6.387577849659323,\n",
       " 'GGGLLLEWE': 4.387577849659322,\n",
       " 'GGLLLEWER': 7.387577849659322}"
      ]
     },
     "execution_count": 8,
     "metadata": {},
     "output_type": "execute_result"
    }
   ],
   "source": [
    "nk.scan_binding_score(target, pwm)"
   ]
  },
  {
   "cell_type": "code",
   "execution_count": 9,
   "metadata": {
    "ExecuteTime": {
     "end_time": "2020-03-02T20:20:34.140672Z",
     "start_time": "2020-03-02T20:20:33.984026Z"
    }
   },
   "outputs": [
    {
     "data": {
      "text/plain": [
       "'RWGGVSFFYNDYGINNSNCW'"
      ]
     },
     "execution_count": 9,
     "metadata": {},
     "output_type": "execute_result"
    }
   ],
   "source": [
    "# generate a random peptide\n",
    "random_target = nk.rand_peptide(n=20)\n",
    "random_target"
   ]
  },
  {
   "cell_type": "code",
   "execution_count": 10,
   "metadata": {
    "ExecuteTime": {
     "end_time": "2020-03-02T20:20:34.276089Z",
     "start_time": "2020-03-02T20:20:34.143686Z"
    }
   },
   "outputs": [
    {
     "data": {
      "text/plain": [
       "{'RWGGVSFFY': 4.217652848217011,\n",
       " 'WGGVSFFYN': 4.539580943104371,\n",
       " 'GGVSFFYND': 5.217652848217011,\n",
       " 'GVSFFYNDY': 7.440045269553458,\n",
       " 'VSFFYNDYG': 1.2176528482170106,\n",
       " 'SFFYNDYGI': 6.2176528482170115,\n",
       " 'FFYNDYGIN': 6.217652848217009,\n",
       " 'FYNDYGINN': 6.802615348938165,\n",
       " 'YNDYGINNS': 6.217652848217011,\n",
       " 'NDYGINNSN': 3.802615348938167,\n",
       " 'DYGINNSNC': 3.6326903474958545,\n",
       " 'YGINNSNCW': 5.802615348938166}"
      ]
     },
     "execution_count": 10,
     "metadata": {},
     "output_type": "execute_result"
    }
   ],
   "source": [
    "nk.scan_binding_score(random_target, pwm)"
   ]
  },
  {
   "cell_type": "code",
   "execution_count": 11,
   "metadata": {
    "ExecuteTime": {
     "end_time": "2020-03-02T20:20:41.116117Z",
     "start_time": "2020-03-02T20:20:34.279119Z"
    }
   },
   "outputs": [
    {
     "data": {
      "text/plain": [
       "11.393858404176381"
      ]
     },
     "execution_count": 11,
     "metadata": {},
     "output_type": "execute_result"
    }
   ],
   "source": [
    "# let's calc a threshold for a FDR < .01\n",
    "pwm_distr = nk.ScoreDistribution(pwm = pwm)\n",
    "pwm_distr.threshold_fpr(.01)"
   ]
  },
  {
   "cell_type": "code",
   "execution_count": 12,
   "metadata": {
    "ExecuteTime": {
     "end_time": "2020-03-02T20:20:41.127909Z",
     "start_time": "2020-03-02T20:20:41.120931Z"
    }
   },
   "outputs": [
    {
     "data": {
      "text/plain": [
       "'GLLPPPLPY'"
      ]
     },
     "execution_count": 12,
     "metadata": {},
     "output_type": "execute_result"
    }
   ],
   "source": [
    "'GLLPPPLPY'\n",
    "# Best target !\n"
   ]
  },
  {
   "cell_type": "code",
   "execution_count": null,
   "metadata": {},
   "outputs": [],
   "source": []
  }
 ],
 "metadata": {
  "kernelspec": {
   "display_name": "Environment (conda_libs)",
   "language": "python",
   "name": "conda_libs"
  },
  "language_info": {
   "codemirror_mode": {
    "name": "ipython",
    "version": 3
   },
   "file_extension": ".py",
   "mimetype": "text/x-python",
   "name": "python",
   "nbconvert_exporter": "python",
   "pygments_lexer": "ipython3",
   "version": "3.6.7"
  },
  "nav_menu": {},
  "toc": {
   "navigate_menu": true,
   "number_sections": true,
   "sideBar": true,
   "threshold": 6,
   "toc_cell": false,
   "toc_section_display": "block",
   "toc_window_display": false
  }
 },
 "nbformat": 4,
 "nbformat_minor": 2
}
